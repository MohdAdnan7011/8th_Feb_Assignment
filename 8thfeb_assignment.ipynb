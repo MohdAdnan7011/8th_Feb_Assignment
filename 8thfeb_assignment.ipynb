{
 "cells": [
  {
   "cell_type": "code",
   "execution_count": 1,
   "id": "14623878-8005-45ce-b652-0a7c9df751be",
   "metadata": {},
   "outputs": [],
   "source": [
    "# Question Number 1\n",
    "# we first create a skeleton and we use it accordingly\n",
    "import abc\n",
    "class pwskills:\n",
    "    \n",
    "    def students_details(self):\n",
    "        pass\n",
    "    \n",
    "    def students_assignment(self):\n",
    "        pass\n",
    "    \n"
   ]
  },
  {
   "cell_type": "code",
   "execution_count": 2,
   "id": "70130304-e26e-43d7-b654-0e60a4aabf05",
   "metadata": {},
   "outputs": [],
   "source": [
    "# Question Number 2 \n",
    "# Abstraction is used for creating the rough struvtue and encapsulation is used for hide the given data\n",
    "# As abstraction example is explained above \n",
    "class car:\n",
    "    def __init__(self, price, model):\n",
    "        self.__price = price\n",
    "        self.__model = model\n",
    "        "
   ]
  },
  {
   "cell_type": "code",
   "execution_count": 6,
   "id": "5d5f5d3e-c3ca-4382-b839-bd286ee42dc5",
   "metadata": {},
   "outputs": [],
   "source": [
    "c= car(45000, \"Toyota\")"
   ]
  },
  {
   "cell_type": "code",
   "execution_count": 7,
   "id": "3c6128b2-f42c-4ccd-9feb-4f809d72af99",
   "metadata": {},
   "outputs": [],
   "source": [
    "#c(4500, \"Toyota\")"
   ]
  },
  {
   "cell_type": "code",
   "execution_count": 8,
   "id": "10508269-07aa-433a-881d-85df57144540",
   "metadata": {},
   "outputs": [
    {
     "data": {
      "text/plain": [
       "45000"
      ]
     },
     "execution_count": 8,
     "metadata": {},
     "output_type": "execute_result"
    }
   ],
   "source": [
    "c._car__price"
   ]
  },
  {
   "cell_type": "code",
   "execution_count": 9,
   "id": "122984f2-2086-4dc5-b153-faa33b6c739b",
   "metadata": {},
   "outputs": [],
   "source": [
    "# Question number 3\n",
    "# abc cretes the infrastructure for the skeleton program"
   ]
  },
  {
   "cell_type": "code",
   "execution_count": 10,
   "id": "6a59b010-2172-4f96-87c7-b39c27b7fb08",
   "metadata": {},
   "outputs": [],
   "source": [
    "# Question number 4\n",
    "# First we create the skeleton and use this skeleton instead of defining the variable again somehow like that we create the data abstraction \n"
   ]
  },
  {
   "cell_type": "code",
   "execution_count": null,
   "id": "8c2e88f8-a5ba-4e88-b699-6e1b8ce6960b",
   "metadata": {},
   "outputs": [],
   "source": [
    "# Question number 5\n",
    "# Yes we can create the instance of abstract class \n",
    "# "
   ]
  }
 ],
 "metadata": {
  "kernelspec": {
   "display_name": "Python 3 (ipykernel)",
   "language": "python",
   "name": "python3"
  },
  "language_info": {
   "codemirror_mode": {
    "name": "ipython",
    "version": 3
   },
   "file_extension": ".py",
   "mimetype": "text/x-python",
   "name": "python",
   "nbconvert_exporter": "python",
   "pygments_lexer": "ipython3",
   "version": "3.10.8"
  }
 },
 "nbformat": 4,
 "nbformat_minor": 5
}
